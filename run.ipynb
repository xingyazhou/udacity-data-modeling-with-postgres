{
 "cells": [
  {
   "cell_type": "code",
   "execution_count": 1,
   "metadata": {
    "editable": true
   },
   "outputs": [
    {
     "name": "stdout",
     "output_type": "stream",
     "text": [
      "Databases:\n",
      "    template1\n",
      "    template0\n",
      "    postgres\n",
      "    studentdb\n",
      "    sparkifydb\n",
      "\n",
      "Tables:\n",
      "('songplays',)\n",
      "('users',)\n",
      "('songs',)\n",
      "('artists',)\n",
      "('time',)\n"
     ]
    }
   ],
   "source": [
    "import create_tables\n",
    "create_tables.main()"
   ]
  },
  {
   "cell_type": "code",
   "execution_count": 2,
   "metadata": {
    "editable": true
   },
   "outputs": [
    {
     "name": "stdout",
     "output_type": "stream",
     "text": [
      "75 files found in data/song_data\n",
      "1/75 files processed.\n",
      "2/75 files processed.\n",
      "3/75 files processed.\n",
      "4/75 files processed.\n",
      "5/75 files processed.\n",
      "6/75 files processed.\n",
      "7/75 files processed.\n",
      "8/75 files processed.\n",
      "9/75 files processed.\n",
      "10/75 files processed.\n",
      "11/75 files processed.\n",
      "12/75 files processed.\n",
      "13/75 files processed.\n",
      "14/75 files processed.\n",
      "15/75 files processed.\n",
      "16/75 files processed.\n",
      "17/75 files processed.\n",
      "18/75 files processed.\n",
      "19/75 files processed.\n",
      "20/75 files processed.\n",
      "21/75 files processed.\n",
      "22/75 files processed.\n",
      "23/75 files processed.\n",
      "24/75 files processed.\n",
      "25/75 files processed.\n",
      "26/75 files processed.\n",
      "27/75 files processed.\n",
      "28/75 files processed.\n",
      "29/75 files processed.\n",
      "30/75 files processed.\n",
      "31/75 files processed.\n",
      "32/75 files processed.\n",
      "33/75 files processed.\n",
      "34/75 files processed.\n",
      "35/75 files processed.\n",
      "36/75 files processed.\n",
      "37/75 files processed.\n",
      "38/75 files processed.\n",
      "39/75 files processed.\n",
      "40/75 files processed.\n",
      "41/75 files processed.\n",
      "42/75 files processed.\n",
      "43/75 files processed.\n",
      "44/75 files processed.\n",
      "45/75 files processed.\n",
      "46/75 files processed.\n",
      "47/75 files processed.\n",
      "48/75 files processed.\n",
      "49/75 files processed.\n",
      "50/75 files processed.\n",
      "51/75 files processed.\n",
      "52/75 files processed.\n",
      "53/75 files processed.\n",
      "54/75 files processed.\n",
      "55/75 files processed.\n",
      "56/75 files processed.\n",
      "57/75 files processed.\n",
      "58/75 files processed.\n",
      "59/75 files processed.\n",
      "60/75 files processed.\n",
      "61/75 files processed.\n",
      "62/75 files processed.\n",
      "63/75 files processed.\n",
      "64/75 files processed.\n",
      "65/75 files processed.\n",
      "66/75 files processed.\n",
      "67/75 files processed.\n",
      "68/75 files processed.\n",
      "69/75 files processed.\n",
      "70/75 files processed.\n",
      "71/75 files processed.\n",
      "72/75 files processed.\n",
      "73/75 files processed.\n",
      "74/75 files processed.\n",
      "75/75 files processed.\n",
      "30 files found in data/log_data\n",
      "1/30 files processed.\n",
      "2/30 files processed.\n",
      "3/30 files processed.\n",
      "4/30 files processed.\n",
      "5/30 files processed.\n",
      "6/30 files processed.\n",
      "7/30 files processed.\n",
      "8/30 files processed.\n",
      "9/30 files processed.\n",
      "10/30 files processed.\n",
      "11/30 files processed.\n",
      "12/30 files processed.\n",
      "13/30 files processed.\n",
      "14/30 files processed.\n",
      "15/30 files processed.\n",
      "16/30 files processed.\n",
      "17/30 files processed.\n",
      "18/30 files processed.\n",
      "19/30 files processed.\n",
      "20/30 files processed.\n",
      "21/30 files processed.\n",
      "22/30 files processed.\n",
      "23/30 files processed.\n",
      "24/30 files processed.\n",
      "25/30 files processed.\n",
      "26/30 files processed.\n",
      "27/30 files processed.\n",
      "28/30 files processed.\n",
      "29/30 files processed.\n",
      "30/30 files processed.\n"
     ]
    }
   ],
   "source": [
    "import etl\n",
    "etl.main()"
   ]
  },
  {
   "cell_type": "code",
   "execution_count": null,
   "metadata": {
    "editable": true
   },
   "outputs": [],
   "source": []
  },
  {
   "cell_type": "code",
   "execution_count": null,
   "metadata": {
    "editable": true
   },
   "outputs": [],
   "source": []
  }
 ],
 "metadata": {
  "kernelspec": {
   "display_name": "Python 3",
   "language": "python",
   "name": "python3"
  },
  "language_info": {
   "codemirror_mode": {
    "name": "ipython",
    "version": 3
   },
   "file_extension": ".py",
   "mimetype": "text/x-python",
   "name": "python",
   "nbconvert_exporter": "python",
   "pygments_lexer": "ipython3",
   "version": "3.6.3"
  }
 },
 "nbformat": 4,
 "nbformat_minor": 4
}
